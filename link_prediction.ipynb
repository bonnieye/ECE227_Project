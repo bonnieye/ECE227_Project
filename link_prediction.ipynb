{
 "cells": [
  {
   "cell_type": "code",
   "execution_count": 1,
   "metadata": {},
   "outputs": [],
   "source": [
    "import networkx as nx\n",
    "import matplotlib.pyplot as plt"
   ]
  },
  {
   "cell_type": "markdown",
   "metadata": {},
   "source": [
    "1. Create Graph"
   ]
  },
  {
   "cell_type": "code",
   "execution_count": 2,
   "metadata": {},
   "outputs": [],
   "source": [
    "def read_edges(file_path):\n",
    "    edges = []\n",
    "    with open(file_path, 'r') as file:\n",
    "        lines = file.readlines()\n",
    "        for line in lines:\n",
    "            node1, node2 = map(int, line.strip().split('\\t'))\n",
    "            edges.append((node1, node2))\n",
    "    return edges\n",
    "edge_file_path = 'erdos_edges.txt'\n",
    "edges = read_edges(edge_file_path)\n",
    "# Create graph\n",
    "G = nx.Graph()\n",
    "G.add_edges_from(edges)"
   ]
  },
  {
   "cell_type": "code",
   "execution_count": 5,
   "metadata": {},
   "outputs": [],
   "source": [
    "import numpy as np\n",
    "import scipy.sparse as sp\n",
    "\n",
    "def sparse_to_tuple(sparse_mx):\n",
    "    \"\"\"Convert sparse matrix to tuple representation.\"\"\"\n",
    "    if not sp.isspmatrix_coo(sparse_mx):\n",
    "        sparse_mx = sparse_mx.tocoo()\n",
    "    coords = np.vstack((sparse_mx.row, sparse_mx.col)).transpose()\n",
    "    values = sparse_mx.data\n",
    "    shape = sparse_mx.shape\n",
    "    return coords, values, shape\n",
    "\n",
    "def mask_test_edges(adj):\n",
    "    adj = adj - sp.dia_matrix((adj.diagonal()[np.newaxis, :], [0]), shape=adj.shape)\n",
    "    adj.eliminate_zeros()\n",
    "    # Check that diag is zero:\n",
    "    assert np.diag(adj.todense()).sum() == 0\n",
    "\n",
    "    adj_triu = sp.triu(adj)\n",
    "    adj_tuple = sparse_to_tuple(adj_triu)\n",
    "    edges = adj_tuple[0]\n",
    "    edges_all = sparse_to_tuple(adj)[0]\n",
    "    num_test = int(np.floor(edges.shape[0] / 10.))\n",
    "    num_val = int(np.floor(edges.shape[0] / 20.))\n",
    "\n",
    "    all_edge_idx = list(range(edges.shape[0]))\n",
    "    np.random.shuffle(all_edge_idx)\n",
    "    val_edge_idx = all_edge_idx[:num_val]\n",
    "    test_edge_idx = all_edge_idx[num_val:(num_val + num_test)]\n",
    "    test_edges = edges[test_edge_idx]\n",
    "    val_edges = edges[val_edge_idx]\n",
    "    train_edges_positive = np.delete(edges, np.hstack([test_edge_idx, val_edge_idx]), axis=0)\n",
    "\n",
    "    def ismember(a, b, tol=5):\n",
    "        rows_close = np.all(np.round(a - b[:, None], tol) == 0, axis=-1)\n",
    "        return np.any(rows_close)\n",
    "\n",
    "    test_edges_false = []\n",
    "    while len(test_edges_false) < len(test_edges):\n",
    "        idx_i = np.random.randint(0, adj.shape[0])\n",
    "        idx_j = np.random.randint(0, adj.shape[0])\n",
    "        if idx_i == idx_j:\n",
    "            continue\n",
    "        if ismember([idx_i, idx_j], edges_all):\n",
    "            continue\n",
    "        if test_edges_false:\n",
    "            if ismember([idx_j, idx_i], np.array(test_edges_false)):\n",
    "                continue\n",
    "            if ismember([idx_i, idx_j], np.array(test_edges_false)):\n",
    "                continue\n",
    "        test_edges_false.append([idx_i, idx_j])\n",
    "\n",
    "    val_edges_false = []\n",
    "    while len(val_edges_false) < len(val_edges):\n",
    "        idx_i = np.random.randint(0, adj.shape[0])\n",
    "        idx_j = np.random.randint(0, adj.shape[0])\n",
    "        if idx_i == idx_j:\n",
    "            continue\n",
    "        if ismember([idx_i, idx_j], train_edges_positive):\n",
    "            continue\n",
    "        if ismember([idx_j, idx_i], train_edges_positive):\n",
    "            continue\n",
    "        if ismember([idx_i, idx_j], val_edges):\n",
    "            continue\n",
    "        if ismember([idx_j, idx_i], val_edges):\n",
    "            continue\n",
    "        if val_edges_false:\n",
    "            if ismember([idx_j, idx_i], np.array(val_edges_false)):\n",
    "                continue\n",
    "            if ismember([idx_i, idx_j], np.array(val_edges_false)):\n",
    "                continue\n",
    "        val_edges_false.append([idx_i, idx_j])\n",
    "\n",
    "    train_edges_negative = []\n",
    "    while len(train_edges_negative) < len(train_edges_positive):\n",
    "        idx_i = np.random.randint(0, adj.shape[0])\n",
    "        idx_j = np.random.randint(0, adj.shape[0])\n",
    "        if idx_i == idx_j:\n",
    "            continue\n",
    "        if ismember([idx_i, idx_j], edges_all):\n",
    "            continue\n",
    "        if ismember([idx_j, idx_i], edges_all):\n",
    "            continue\n",
    "        if train_edges_negative:\n",
    "            if ismember([idx_j, idx_i], np.array(train_edges_negative)):\n",
    "                continue\n",
    "            if ismember([idx_i, idx_j], np.array(train_edges_negative)):\n",
    "                continue\n",
    "        train_edges_negative.append([idx_i, idx_j])\n",
    "\n",
    "    assert not ismember(test_edges_false, edges_all)\n",
    "    assert not ismember(val_edges_false, edges_all)\n",
    "    assert not ismember(val_edges, train_edges_positive)\n",
    "    assert not ismember(test_edges, train_edges_positive)\n",
    "    assert not ismember(val_edges, test_edges)\n",
    "\n",
    "    data = np.ones(train_edges_positive.shape[0])\n",
    "\n",
    "    # Re-build adj matrix\n",
    "    adj_train = sp.csr_matrix((data, (train_edges_positive[:, 0], train_edges_positive[:, 1])), shape=adj.shape)\n",
    "    adj_train = adj_train + adj_train.T\n",
    "\n",
    "    train_edges_negative = np.array(train_edges_negative)\n",
    "\n",
    "    return adj_train, train_edges_positive, train_edges_negative, val_edges, val_edges_false, test_edges, test_edges_false\n",
    "\n"
   ]
  },
  {
   "cell_type": "code",
   "execution_count": 6,
   "metadata": {},
   "outputs": [
    {
     "ename": "AssertionError",
     "evalue": "",
     "output_type": "error",
     "traceback": [
      "\u001b[0;31m---------------------------------------------------------------------------\u001b[0m",
      "\u001b[0;31mAssertionError\u001b[0m                            Traceback (most recent call last)",
      "Cell \u001b[0;32mIn[6], line 6\u001b[0m\n\u001b[1;32m      3\u001b[0m adj_sparse \u001b[38;5;241m=\u001b[39m nx\u001b[38;5;241m.\u001b[39mto_scipy_sparse_array(G)\n\u001b[1;32m      5\u001b[0m \u001b[38;5;66;03m# Perform train-test split\u001b[39;00m\n\u001b[0;32m----> 6\u001b[0m adj_train, train_edges, train_edges_false, val_edges, val_edges_false, test_edges, test_edges_false \u001b[38;5;241m=\u001b[39m \u001b[43mmask_test_edges\u001b[49m\u001b[43m(\u001b[49m\u001b[43madj_sparse\u001b[49m\u001b[43m)\u001b[49m\n\u001b[1;32m      7\u001b[0m g_train \u001b[38;5;241m=\u001b[39m nx\u001b[38;5;241m.\u001b[39mfrom_scipy_sparse_array(adj_train) \u001b[38;5;66;03m# new graph object with only non-hidden edges\u001b[39;00m\n",
      "Cell \u001b[0;32mIn[5], line 96\u001b[0m, in \u001b[0;36mmask_test_edges\u001b[0;34m(adj)\u001b[0m\n\u001b[1;32m     93\u001b[0m     train_edges_negative\u001b[38;5;241m.\u001b[39mappend([idx_i, idx_j])\n\u001b[1;32m     95\u001b[0m \u001b[38;5;28;01massert\u001b[39;00m \u001b[38;5;129;01mnot\u001b[39;00m ismember(test_edges_false, edges_all)\n\u001b[0;32m---> 96\u001b[0m \u001b[38;5;28;01massert\u001b[39;00m \u001b[38;5;129;01mnot\u001b[39;00m ismember(val_edges_false, edges_all)\n\u001b[1;32m     97\u001b[0m \u001b[38;5;28;01massert\u001b[39;00m \u001b[38;5;129;01mnot\u001b[39;00m ismember(val_edges, train_edges_positive)\n\u001b[1;32m     98\u001b[0m \u001b[38;5;28;01massert\u001b[39;00m \u001b[38;5;129;01mnot\u001b[39;00m ismember(test_edges, train_edges_positive)\n",
      "\u001b[0;31mAssertionError\u001b[0m: "
     ]
    }
   ],
   "source": [
    "import networkx as nx\n",
    "np.random.seed(0) # make sure train-test split is consistent between notebooks\n",
    "adj_sparse = nx.to_scipy_sparse_array(G)\n",
    "\n",
    "# Perform train-test split\n",
    "adj_train, train_edges, train_edges_false, val_edges, val_edges_false, test_edges, test_edges_false = mask_test_edges(adj_sparse)\n",
    "g_train = nx.from_scipy_sparse_array(adj_train) # new graph object with only non-hidden edges"
   ]
  },
  {
   "cell_type": "code",
   "execution_count": null,
   "metadata": {},
   "outputs": [
    {
     "name": "stdout",
     "output_type": "stream",
     "text": [
      "Total nodes: 13113\n",
      "Total edges: 20697\n",
      "Training edges (positive): 17594\n",
      "Training edges (positive): 17594\n",
      "Validation edges (positive): 1034\n",
      "Validation edges (negative): 1034\n",
      "Test edges (positive): 2069\n",
      "Test edges (negative): 2069\n"
     ]
    }
   ],
   "source": [
    "print (\"Total nodes:\", adj_sparse.shape[0])\n",
    "print (\"Total edges:\", int(adj_sparse.nnz/2)) # adj is symmetric, so nnz (num non-zero) = 2*num_edges\n",
    "print (\"Training edges (positive):\", len(train_edges))\n",
    "print (\"Training edges (positive):\", len(train_edges_false))\n",
    "print (\"Validation edges (positive):\", len(val_edges))\n",
    "print (\"Validation edges (negative):\", len(val_edges_false))\n",
    "print (\"Test edges (positive):\", len(test_edges))\n",
    "print (\"Test edges (negative):\", len(test_edges_false))"
   ]
  },
  {
   "cell_type": "code",
   "execution_count": null,
   "metadata": {},
   "outputs": [],
   "source": [
    "from sklearn.metrics import roc_auc_score\n",
    "from sklearn.metrics import average_precision_score\n",
    "def get_roc_score(edges_pos, edges_neg, score_matrix):\n",
    "    # Store positive edge predictions, actual values\n",
    "    preds_pos = []\n",
    "    pos = []\n",
    "    for edge in edges_pos:\n",
    "        preds_pos.append(score_matrix[edge[0], edge[1]]) # predicted score\n",
    "        pos.append(adj_sparse[edge[0], edge[1]]) # actual value (1 for positive)\n",
    "        \n",
    "    # Store negative edge predictions, actual values\n",
    "    preds_neg = []\n",
    "    neg = []\n",
    "    for edge in edges_neg:\n",
    "        preds_neg.append(score_matrix[edge[0], edge[1]]) # predicted score\n",
    "        neg.append(adj_sparse[edge[0], edge[1]]) # actual value (0 for negative)\n",
    "        \n",
    "    # Calculate scores\n",
    "    preds_all = np.hstack([preds_pos, preds_neg])\n",
    "    labels_all = np.hstack([np.ones(len(preds_pos)), np.zeros(len(preds_neg))])\n",
    "    roc_score = roc_auc_score(labels_all, preds_all)\n",
    "    ap_score = average_precision_score(labels_all, preds_all)\n",
    "    return roc_score, ap_score"
   ]
  },
  {
   "cell_type": "code",
   "execution_count": null,
   "metadata": {},
   "outputs": [],
   "source": [
    "# Function to create an adjacency matrix from edges\n",
    "def create_adj_matrix(edges, num_nodes):\n",
    "    row = np.array([edge[0] for edge in edges])\n",
    "    col = np.array([edge[1] for edge in edges])\n",
    "    data = np.ones(len(edges))\n",
    "\n",
    "    adj_matrix = sp.csr_matrix((data, (row, col)), shape=(num_nodes, num_nodes))\n",
    "    adj_matrix = adj_matrix + adj_matrix.T - sp.diags(adj_matrix.diagonal())\n",
    "    return adj_matrix\n",
    "# Determine the number of nodes\n",
    "num_nodes = max(max(edges)) + 1\n",
    "\n",
    "# Create adjacency matrix\n",
    "adj_matrix = create_adj_matrix(edges, num_nodes)"
   ]
  },
  {
   "cell_type": "code",
   "execution_count": null,
   "metadata": {},
   "outputs": [
    {
     "name": "stdout",
     "output_type": "stream",
     "text": [
      "Jaccard Coefficient Test ROC score:  0.6587811139187635\n",
      "Jaccard Coefficient Test AP score:  0.6307656162532899\n"
     ]
    }
   ],
   "source": [
    "# Compute Jaccard Coefficients from g_train\n",
    "jc_matrix = np.zeros(adj_matrix.shape)\n",
    "for u, v, p in nx.jaccard_coefficient(g_train): # (u, v) = node indices, p = Jaccard coefficient\n",
    "    jc_matrix[u][v] = p\n",
    "    jc_matrix[v][u] = p # make sure it's symmetric\n",
    "    \n",
    "jc_matrix = jc_matrix / jc_matrix.max()\n",
    "jc_roc, jc_ap = get_roc_score(test_edges, test_edges_false, jc_matrix)\n",
    "\n",
    "print('Jaccard Coefficient Test ROC score: ', str(jc_roc))\n",
    "print('Jaccard Coefficient Test AP score: ', str(jc_ap))"
   ]
  },
  {
   "cell_type": "code",
   "execution_count": null,
   "metadata": {},
   "outputs": [
    {
     "name": "stdout",
     "output_type": "stream",
     "text": [
      "Adamic-Adar Test ROC score:  0.6616682174034009\n",
      "Adamic-Adar Test AP score:  0.6640335868490647\n"
     ]
    }
   ],
   "source": [
    "aa_matrix = np.zeros(adj_matrix.shape)\n",
    "for u, v, p in nx.adamic_adar_index(g_train): \n",
    "    aa_matrix[u][v] = p\n",
    "    aa_matrix[v][u] = p \n",
    "    \n",
    "aa_matrix = aa_matrix / aa_matrix.max()\n",
    "\n",
    "aa_roc, aa_ap = get_roc_score(test_edges, test_edges_false, aa_matrix)\n",
    "\n",
    "print('Adamic-Adar Test ROC score: ', str(aa_roc))\n",
    "print('Adamic-Adar Test AP score: ', str(aa_ap))"
   ]
  },
  {
   "cell_type": "code",
   "execution_count": null,
   "metadata": {},
   "outputs": [
    {
     "name": "stdout",
     "output_type": "stream",
     "text": [
      "Preferential Attachment Test ROC score:  0.5603285256990521\n",
      "Preferential Attachment Test AP score:  0.7437701543970968\n"
     ]
    }
   ],
   "source": [
    "pa_matrix = np.zeros(adj_matrix.shape)\n",
    "for u, v, p in nx.preferential_attachment(g_train): # (u, v) = node indices, p = Jaccard coefficient\n",
    "    pa_matrix[u][v] = p\n",
    "    pa_matrix[v][u] = p # make sure it's symmetric\n",
    "    \n",
    "\n",
    "pa_matrix = pa_matrix / pa_matrix.max()\n",
    "pa_roc, pa_ap = get_roc_score(test_edges, test_edges_false, pa_matrix)\n",
    "\n",
    "print('Preferential Attachment Test ROC score: ', str(pa_roc))\n",
    "print('Preferential Attachment Test AP score: ', str(pa_ap))"
   ]
  }
 ],
 "metadata": {
  "kernelspec": {
   "display_name": "Python 3.9.6 64-bit",
   "language": "python",
   "name": "python3"
  },
  "language_info": {
   "codemirror_mode": {
    "name": "ipython",
    "version": 3
   },
   "file_extension": ".py",
   "mimetype": "text/x-python",
   "name": "python",
   "nbconvert_exporter": "python",
   "pygments_lexer": "ipython3",
   "version": "3.9.6"
  },
  "orig_nbformat": 4,
  "vscode": {
   "interpreter": {
    "hash": "31f2aee4e71d21fbe5cf8b01ff0e069b9275f58929596ceb00d14d90e3e16cd6"
   }
  }
 },
 "nbformat": 4,
 "nbformat_minor": 2
}
